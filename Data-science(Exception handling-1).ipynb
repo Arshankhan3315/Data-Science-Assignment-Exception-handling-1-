{
 "cells": [
  {
   "cell_type": "raw",
   "id": "b30a8240-bc92-4e7b-b1e9-c349fe657dd9",
   "metadata": {},
   "source": [
    "Python(Exception handling-1) assignment"
   ]
  },
  {
   "cell_type": "markdown",
   "id": "50d43f50-70d1-4a3b-bdd9-3b445331c3e3",
   "metadata": {},
   "source": [
    "Question-1- What is an Exception in python? Write the difference between Exception and syntax errors."
   ]
  },
  {
   "cell_type": "markdown",
   "id": "004ed924-af01-4420-8d5f-5adbf3e634cd",
   "metadata": {},
   "source": [
    "Answer-1- An exception is an event that occurs during the execution of a program that disrupts the normal flow of instructions. When an exceptional situation or error occurs, Python raises an exception, which is essentially a signal that something unexpected or erroneous has happened. Exceptions are used to handle runtime errors and other exceptional situations gracefully, allowing the program to handle the error and potentially recover from it, rather than crashing"
   ]
  },
  {
   "cell_type": "code",
   "execution_count": 2,
   "id": "2cfa6d9d-ab2d-4baa-998b-3aba83698815",
   "metadata": {},
   "outputs": [
    {
     "name": "stdout",
     "output_type": "stream",
     "text": [
      "Division by zero is not allowed.\n",
      "Hello, world\n"
     ]
    }
   ],
   "source": [
    "# Exception \n",
    "try:\n",
    "    result = 10 / 0  \n",
    "except ZeroDivisionError:\n",
    "    print(\"Division by zero is not allowed.\")\n",
    "\n",
    "print(\"Hello, world\")"
   ]
  },
  {
   "cell_type": "markdown",
   "id": "794bba1f-7e18-4ca2-a3f1-db5ae5ba2807",
   "metadata": {},
   "source": [
    "Question-2- What happens when an exception is not handled? Explain with an example."
   ]
  },
  {
   "cell_type": "markdown",
   "id": "e9c7e32c-1bf9-4899-a470-5ed63035384f",
   "metadata": {},
   "source": [
    "Answer-2-When an exception is not handled in Python, it results in the program terminating abruptly and displaying an error message that provides information about the unhandled exception. This is often referred to as an \"unhandled exception\" or a \"crash.\" The error message includes a traceback, which shows the call stack and the line of code where the exception occurred. This traceback is useful for debugging but can be confusing for end-users if not handled gracefully."
   ]
  },
  {
   "cell_type": "code",
   "execution_count": 5,
   "id": "3953d3cb-fa4d-489c-9e0f-cfe796ee22a2",
   "metadata": {},
   "outputs": [],
   "source": [
    "def div(a, b):\n",
    "    result = a / b  \n",
    "    return result"
   ]
  },
  {
   "cell_type": "code",
   "execution_count": 6,
   "id": "4c1f37d6-5310-4696-91c6-1e9bab3b6374",
   "metadata": {},
   "outputs": [
    {
     "ename": "ZeroDivisionError",
     "evalue": "division by zero",
     "output_type": "error",
     "traceback": [
      "\u001b[0;31m---------------------------------------------------------------------------\u001b[0m",
      "\u001b[0;31mZeroDivisionError\u001b[0m                         Traceback (most recent call last)",
      "Cell \u001b[0;32mIn[6], line 1\u001b[0m\n\u001b[0;32m----> 1\u001b[0m result \u001b[38;5;241m=\u001b[39m \u001b[43mdiv\u001b[49m\u001b[43m(\u001b[49m\u001b[38;5;241;43m10\u001b[39;49m\u001b[43m,\u001b[49m\u001b[43m \u001b[49m\u001b[38;5;241;43m0\u001b[39;49m\u001b[43m)\u001b[49m\n\u001b[1;32m      2\u001b[0m \u001b[38;5;28mprint\u001b[39m(\u001b[38;5;124m\"\u001b[39m\u001b[38;5;124mResult:\u001b[39m\u001b[38;5;124m\"\u001b[39m, result)\n",
      "Cell \u001b[0;32mIn[5], line 2\u001b[0m, in \u001b[0;36mdiv\u001b[0;34m(a, b)\u001b[0m\n\u001b[1;32m      1\u001b[0m \u001b[38;5;28;01mdef\u001b[39;00m \u001b[38;5;21mdiv\u001b[39m(a, b):\n\u001b[0;32m----> 2\u001b[0m     result \u001b[38;5;241m=\u001b[39m \u001b[43ma\u001b[49m\u001b[43m \u001b[49m\u001b[38;5;241;43m/\u001b[39;49m\u001b[43m \u001b[49m\u001b[43mb\u001b[49m  \n\u001b[1;32m      3\u001b[0m     \u001b[38;5;28;01mreturn\u001b[39;00m result\n",
      "\u001b[0;31mZeroDivisionError\u001b[0m: division by zero"
     ]
    }
   ],
   "source": [
    "result = div(10, 0)\n",
    "print(\"Result:\", result)"
   ]
  },
  {
   "cell_type": "code",
   "execution_count": 7,
   "id": "8f581c66-f47a-4859-80b6-55df2f8fe5aa",
   "metadata": {},
   "outputs": [],
   "source": [
    "# this is when exception is not handled"
   ]
  },
  {
   "cell_type": "code",
   "execution_count": 8,
   "id": "be796590-3db5-43d5-ada8-14d7a15c6c54",
   "metadata": {},
   "outputs": [],
   "source": [
    "def divide(a, b):\n",
    "    try:\n",
    "        result = a / b\n",
    "    except ZeroDivisionError:\n",
    "        print(\"Error: Division by zero is not allowed.\")\n",
    "        result = None \n",
    "    return result"
   ]
  },
  {
   "cell_type": "code",
   "execution_count": 9,
   "id": "fec38035-b830-443f-8067-91e85ed2c5a9",
   "metadata": {},
   "outputs": [
    {
     "name": "stdout",
     "output_type": "stream",
     "text": [
      "Error: Division by zero is not allowed.\n"
     ]
    }
   ],
   "source": [
    "result = divide(10, 0)"
   ]
  },
  {
   "cell_type": "code",
   "execution_count": 10,
   "id": "5dd06c37-2545-4548-a1be-ea870dac436e",
   "metadata": {},
   "outputs": [
    {
     "name": "stdout",
     "output_type": "stream",
     "text": [
      "Result: None\n"
     ]
    }
   ],
   "source": [
    "print(\"Result:\", result)"
   ]
  },
  {
   "cell_type": "code",
   "execution_count": 11,
   "id": "d0081b87-f7ff-4458-b512-87c2d7838960",
   "metadata": {},
   "outputs": [],
   "source": [
    "# In this code modifi ZeroDivisionError"
   ]
  },
  {
   "cell_type": "markdown",
   "id": "a2b596d6-92ca-4274-ae3b-08ca60bb7bc9",
   "metadata": {},
   "source": [
    "Question-3- Which Python statements are used to catch and handle exceptions? Explain with an example."
   ]
  },
  {
   "cell_type": "markdown",
   "id": "3545153a-3686-4231-832f-b0d8bf8cb2ca",
   "metadata": {},
   "source": [
    "Answer-3-In Python, you can catch and handle exceptions using the 'try' and 'except' statements within a try-except block. "
   ]
  },
  {
   "cell_type": "code",
   "execution_count": 1,
   "id": "866cbf0d-fe79-4961-afc1-e4bcd0e8755f",
   "metadata": {},
   "outputs": [],
   "source": [
    "import logging\n",
    "\n",
    "logging.basicConfig(filename='error.log', level=logging.ERROR, format='%(asctime)s - %(levelname)s: %(message)s')\n",
    "\n",
    "def safe_divide(a, b):\n",
    "    try:\n",
    "        result = a / b\n",
    "    except ZeroDivisionError as e:\n",
    "        logging.error(f\"ZeroDivisionError: {e}\")\n",
    "        print(\"Error: Division by zero is not allowed.\")\n",
    "        result = None\n",
    "    except ValueError as e:\n",
    "        logging.error(f\"ValueError: {e}\")\n",
    "        print(\"Error: Invalid input. Please enter valid numbers.\")\n",
    "        result = None\n",
    "    except Exception as e:\n",
    "        logging.error(f\"An unexpected error occurred: {e}\")\n",
    "        print(f\"An unexpected error occurred: {e}\")\n",
    "        result = None\n",
    "    return result"
   ]
  },
  {
   "cell_type": "code",
   "execution_count": 2,
   "id": "f97ea571-b7aa-432b-8b37-3833f125c107",
   "metadata": {},
   "outputs": [
    {
     "name": "stdout",
     "output_type": "stream",
     "text": [
      "Error: Division by zero is not allowed.\n"
     ]
    }
   ],
   "source": [
    "result1 = safe_divide(10, 0)"
   ]
  },
  {
   "cell_type": "code",
   "execution_count": 4,
   "id": "de39a43b-54f4-4baa-a9ad-caae93a39bb2",
   "metadata": {},
   "outputs": [],
   "source": [
    "result2 = safe_divide(10, 2)"
   ]
  },
  {
   "cell_type": "code",
   "execution_count": 5,
   "id": "e249a631-f424-46bf-a71a-f2c02158ced4",
   "metadata": {},
   "outputs": [
    {
     "name": "stdout",
     "output_type": "stream",
     "text": [
      "An unexpected error occurred: unsupported operand type(s) for /: 'str' and 'int'\n"
     ]
    }
   ],
   "source": [
    "result3 = safe_divide(\"abc\", 5)"
   ]
  },
  {
   "cell_type": "code",
   "execution_count": 6,
   "id": "bd01f2c3-a5af-463c-8afb-e90998c9eead",
   "metadata": {},
   "outputs": [
    {
     "name": "stdout",
     "output_type": "stream",
     "text": [
      "An unexpected error occurred: unsupported operand type(s) for /: 'int' and 'str'\n"
     ]
    }
   ],
   "source": [
    "result4 = safe_divide(10, \"2\")"
   ]
  },
  {
   "cell_type": "markdown",
   "id": "194fb137-fb9e-4ae4-9f1f-8cc9d5834546",
   "metadata": {},
   "source": [
    "Question-4-explain with an example.\n",
    "(a)-try and else,\n",
    "(b)-finally,\n",
    "(c)-raise. in python"
   ]
  },
  {
   "cell_type": "markdown",
   "id": "2192dfd5-adbb-410c-9ac6-6a830e21359d",
   "metadata": {},
   "source": [
    "Answer-4-\n",
    "(a) try and else in Python:-In Python, you can use a try block to enclose code that might raise an exception, and you can follow it with an else block that contains code to be executed if no exceptions are raised"
   ]
  },
  {
   "cell_type": "code",
   "execution_count": 10,
   "id": "e0b3940a-0d7d-4081-a3cd-a4e3d2295d5a",
   "metadata": {},
   "outputs": [],
   "source": [
    "import logging\n",
    "\n",
    "logging.basicConfig(filename='error.log', level=logging.ERROR, format='%(asctime)s - %(levelname)s: %(message)s')\n",
    "\n",
    "def divide(a, b):\n",
    "    try:\n",
    "        result = a / b\n",
    "    except ZeroDivisionError as e:\n",
    "        logging.error(f\"ZeroDivisionError: {e}\")\n",
    "        print(\"Error: Division by zero is not allowed.\")\n",
    "        result = None\n",
    "    else:\n",
    "        logging.info(\"Division successful\")\n",
    "    return result "
   ]
  },
  {
   "cell_type": "code",
   "execution_count": 11,
   "id": "9d918702-b65a-49b2-93cf-94750ac65077",
   "metadata": {},
   "outputs": [
    {
     "name": "stdout",
     "output_type": "stream",
     "text": [
      "Error: Division by zero is not allowed.\n"
     ]
    }
   ],
   "source": [
    "result1 = divide(10, 0)  \n",
    "result2 = divide(10, 5)"
   ]
  },
  {
   "cell_type": "code",
   "execution_count": 12,
   "id": "d0f20042-fd82-43ec-b2f7-bc834bfabd89",
   "metadata": {},
   "outputs": [],
   "source": [
    "#(b)-finally with logging in Python"
   ]
  },
  {
   "cell_type": "code",
   "execution_count": 13,
   "id": "95c6ad58-9cef-4c9e-89fd-8fe87f9764a2",
   "metadata": {},
   "outputs": [],
   "source": [
    "import logging\n",
    "\n",
    "logging.basicConfig(filename='error.log', level=logging.ERROR, format='%(asctime)s - %(levelname)s: %(message)s')\n",
    "\n",
    "def divide(a, b):\n",
    "    try:\n",
    "        result = a / b\n",
    "    except ZeroDivisionError as e:\n",
    "        logging.error(f\"ZeroDivisionError: {e}\")\n",
    "        print(\"Error: Division by zero is not allowed.\")\n",
    "        result = None\n",
    "    finally:\n",
    "        logging.info(\"Cleanup and finalization\")\n",
    "    return result"
   ]
  },
  {
   "cell_type": "code",
   "execution_count": 14,
   "id": "41f7df98-5fbd-4035-b9ee-10b560077d59",
   "metadata": {},
   "outputs": [
    {
     "name": "stdout",
     "output_type": "stream",
     "text": [
      "Error: Division by zero is not allowed.\n"
     ]
    }
   ],
   "source": [
    "result1 = divide(10, 0)  "
   ]
  },
  {
   "cell_type": "code",
   "execution_count": 15,
   "id": "2d435044-e29e-4eaa-bfcb-2a437f7431cf",
   "metadata": {},
   "outputs": [],
   "source": [
    "result2 = divide(10, 2)"
   ]
  },
  {
   "cell_type": "code",
   "execution_count": 16,
   "id": "ddb67a9f-411f-4cc9-bbbc-83d311c528b7",
   "metadata": {},
   "outputs": [],
   "source": [
    "#(c)-raise with logging in Python:"
   ]
  },
  {
   "cell_type": "code",
   "execution_count": 17,
   "id": "e2244388-a1f5-4adc-b7df-652220d055a4",
   "metadata": {},
   "outputs": [],
   "source": [
    "import logging\n",
    "\n",
    "logging.basicConfig(filename='error.log', level=logging.ERROR, format='%(asctime)s - %(levelname)s: %(message)s')\n",
    "\n",
    "class CustomError(Exception):\n",
    "    pass\n",
    "\n",
    "def custom_function(value):\n",
    "    try:\n",
    "        if value < 0:\n",
    "            raise CustomError(\"Value cannot be negative\")\n",
    "    except CustomError as e:\n",
    "        logging.error(f\"CustomError: {e}\")\n",
    "        print(f\"Custom error caught: {e}\")"
   ]
  },
  {
   "cell_type": "code",
   "execution_count": 18,
   "id": "3cf830a7-8ad7-450f-97c5-0bf4bf451de6",
   "metadata": {},
   "outputs": [
    {
     "name": "stdout",
     "output_type": "stream",
     "text": [
      "Custom error caught: Value cannot be negative\n"
     ]
    }
   ],
   "source": [
    "custom_function(-5)"
   ]
  },
  {
   "cell_type": "markdown",
   "id": "0a69aa02-2ca8-4cdd-a63b-92b41effc52f",
   "metadata": {},
   "source": [
    "Question-(5)- What are Custom Exceptions in python? Why do we need Custom Exceptions? Explain with an example."
   ]
  },
  {
   "cell_type": "markdown",
   "id": "97ef3119-06bd-4d8d-a9c3-5e5174675a74",
   "metadata": {},
   "source": [
    "Answer-5-Custom exceptions in Python are user-defined exception classes that you create to handle specific error conditions or situations in your code. These exceptions extend the base Exception class or one of its subclasses, allowing you to define your own exception hierarchy. Custom exceptions are useful when the built-in exceptions provided by Python don't accurately capture the nature of an error or when you want to provide more detailed and specific error messages"
   ]
  },
  {
   "cell_type": "code",
   "execution_count": 19,
   "id": "101c809e-c324-402a-aab5-b087d17ef05a",
   "metadata": {},
   "outputs": [
    {
     "name": "stdout",
     "output_type": "stream",
     "text": [
      "Custom error caught: Empty data provided\n"
     ]
    }
   ],
   "source": [
    "import logging\n",
    "\n",
    "logging.basicConfig(filename='error.log', level=logging.ERROR, format='%(asctime)s - %(levelname)s: %(message)s')\n",
    "\n",
    "class CustomError(Exception):\n",
    "    def __init__(self, message):\n",
    "        super().__init__(message)\n",
    "\n",
    "def process_data(data):\n",
    "    try:\n",
    "        if not data:\n",
    "            raise CustomError(\"Empty data provided\")\n",
    "    except CustomError as e:\n",
    "        logging.error(f\"CustomError: {e}\")\n",
    "        print(f\"Custom error caught: {e}\")\n",
    "\n",
    "try:\n",
    "    data = []\n",
    "    process_data(data)  \n",
    "except CustomError as e:\n",
    "    print(f\"Error handled: {e}\")"
   ]
  },
  {
   "cell_type": "markdown",
   "id": "49b5b2bd-a372-4962-bcb5-85c9b7d1ef89",
   "metadata": {},
   "source": [
    "Question-6- Create custom exception class. Use this class to handlen exception"
   ]
  },
  {
   "cell_type": "markdown",
   "id": "abe4b94d-1464-4269-82e4-e442ff937d78",
   "metadata": {},
   "source": [
    "Answer-6-"
   ]
  },
  {
   "cell_type": "code",
   "execution_count": 26,
   "id": "7df7f1e8-21e1-475f-bbe1-54d33422a96e",
   "metadata": {},
   "outputs": [
    {
     "name": "stdout",
     "output_type": "stream",
     "text": [
      "Error handled: Invalid input detected: abc\n"
     ]
    }
   ],
   "source": [
    "import logging\n",
    "\n",
    "logging.basicConfig(filename='error.log', level=logging.ERROR, format='%(asctime)s - %(levelname)s: %(message)s')\n",
    "\n",
    "class InvalidInputError(Exception):\n",
    "    def __init__(self, input_value):\n",
    "        self.input_value = input_value\n",
    "        message = f\"Invalid input detected: {input_value}\"\n",
    "        super().__init__(message)\n",
    "\n",
    "def process_input(input_data):\n",
    "    if not isinstance(input_data, int):\n",
    "        raise InvalidInputError(input_data)\n",
    "try:\n",
    "    input_data = \"abc\"\n",
    "    process_input(input_data)  \n",
    "except InvalidInputError as e:\n",
    "    print(f\"Error handled: {e}\")"
   ]
  },
  {
   "cell_type": "raw",
   "id": "2310b7af-262f-47ac-ab9a-53324e483650",
   "metadata": {},
   "source": [
    "COMPLETED -- ASSIGNMENT"
   ]
  }
 ],
 "metadata": {
  "kernelspec": {
   "display_name": "Python 3 (ipykernel)",
   "language": "python",
   "name": "python3"
  },
  "language_info": {
   "codemirror_mode": {
    "name": "ipython",
    "version": 3
   },
   "file_extension": ".py",
   "mimetype": "text/x-python",
   "name": "python",
   "nbconvert_exporter": "python",
   "pygments_lexer": "ipython3",
   "version": "3.10.8"
  }
 },
 "nbformat": 4,
 "nbformat_minor": 5
}
